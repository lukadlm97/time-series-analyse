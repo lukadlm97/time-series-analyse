{
 "cells": [
  {
   "cell_type": "code",
   "execution_count": 1,
   "id": "87a024de",
   "metadata": {},
   "outputs": [],
   "source": [
    "import pandas as pd\n",
    "import numpy as np\n",
    "\n",
    "\n"
   ]
  },
  {
   "cell_type": "code",
   "execution_count": 4,
   "id": "40083560",
   "metadata": {},
   "outputs": [
    {
     "data": {
      "text/html": [
       "<div>\n",
       "<style scoped>\n",
       "    .dataframe tbody tr th:only-of-type {\n",
       "        vertical-align: middle;\n",
       "    }\n",
       "\n",
       "    .dataframe tbody tr th {\n",
       "        vertical-align: top;\n",
       "    }\n",
       "\n",
       "    .dataframe thead th {\n",
       "        text-align: right;\n",
       "    }\n",
       "</style>\n",
       "<table border=\"1\" class=\"dataframe\">\n",
       "  <thead>\n",
       "    <tr style=\"text-align: right;\">\n",
       "      <th></th>\n",
       "      <th>Date</th>\n",
       "      <th>Symbol</th>\n",
       "      <th>Series</th>\n",
       "      <th>Prev Close</th>\n",
       "      <th>Open</th>\n",
       "      <th>High</th>\n",
       "      <th>Low</th>\n",
       "      <th>Last</th>\n",
       "      <th>Close</th>\n",
       "      <th>VWAP</th>\n",
       "      <th>Volume</th>\n",
       "      <th>Turnover</th>\n",
       "      <th>Trades</th>\n",
       "      <th>Deliverable Volume</th>\n",
       "      <th>%Deliverble</th>\n",
       "    </tr>\n",
       "  </thead>\n",
       "  <tbody>\n",
       "    <tr>\n",
       "      <th>0</th>\n",
       "      <td>2000-01-03</td>\n",
       "      <td>BAJAUTOFIN</td>\n",
       "      <td>EQ</td>\n",
       "      <td>46.95</td>\n",
       "      <td>49.45</td>\n",
       "      <td>50.75</td>\n",
       "      <td>46.5</td>\n",
       "      <td>50.75</td>\n",
       "      <td>50.75</td>\n",
       "      <td>50.05</td>\n",
       "      <td>7600</td>\n",
       "      <td>3.803800e+10</td>\n",
       "      <td>NaN</td>\n",
       "      <td>NaN</td>\n",
       "      <td>NaN</td>\n",
       "    </tr>\n",
       "    <tr>\n",
       "      <th>1</th>\n",
       "      <td>2000-01-04</td>\n",
       "      <td>BAJAUTOFIN</td>\n",
       "      <td>EQ</td>\n",
       "      <td>50.75</td>\n",
       "      <td>53.20</td>\n",
       "      <td>53.20</td>\n",
       "      <td>47.9</td>\n",
       "      <td>48.00</td>\n",
       "      <td>48.10</td>\n",
       "      <td>48.56</td>\n",
       "      <td>5000</td>\n",
       "      <td>2.428000e+10</td>\n",
       "      <td>NaN</td>\n",
       "      <td>NaN</td>\n",
       "      <td>NaN</td>\n",
       "    </tr>\n",
       "    <tr>\n",
       "      <th>2</th>\n",
       "      <td>2000-01-05</td>\n",
       "      <td>BAJAUTOFIN</td>\n",
       "      <td>EQ</td>\n",
       "      <td>48.10</td>\n",
       "      <td>46.55</td>\n",
       "      <td>47.40</td>\n",
       "      <td>44.6</td>\n",
       "      <td>44.60</td>\n",
       "      <td>44.60</td>\n",
       "      <td>45.47</td>\n",
       "      <td>3500</td>\n",
       "      <td>1.591450e+10</td>\n",
       "      <td>NaN</td>\n",
       "      <td>NaN</td>\n",
       "      <td>NaN</td>\n",
       "    </tr>\n",
       "    <tr>\n",
       "      <th>3</th>\n",
       "      <td>2000-01-06</td>\n",
       "      <td>BAJAUTOFIN</td>\n",
       "      <td>EQ</td>\n",
       "      <td>44.60</td>\n",
       "      <td>43.50</td>\n",
       "      <td>46.00</td>\n",
       "      <td>42.1</td>\n",
       "      <td>46.00</td>\n",
       "      <td>45.25</td>\n",
       "      <td>44.43</td>\n",
       "      <td>6200</td>\n",
       "      <td>2.754750e+10</td>\n",
       "      <td>NaN</td>\n",
       "      <td>NaN</td>\n",
       "      <td>NaN</td>\n",
       "    </tr>\n",
       "    <tr>\n",
       "      <th>4</th>\n",
       "      <td>2000-01-07</td>\n",
       "      <td>BAJAUTOFIN</td>\n",
       "      <td>EQ</td>\n",
       "      <td>45.25</td>\n",
       "      <td>48.00</td>\n",
       "      <td>48.00</td>\n",
       "      <td>42.0</td>\n",
       "      <td>42.90</td>\n",
       "      <td>42.90</td>\n",
       "      <td>44.44</td>\n",
       "      <td>3500</td>\n",
       "      <td>1.555550e+10</td>\n",
       "      <td>NaN</td>\n",
       "      <td>NaN</td>\n",
       "      <td>NaN</td>\n",
       "    </tr>\n",
       "  </tbody>\n",
       "</table>\n",
       "</div>"
      ],
      "text/plain": [
       "         Date      Symbol Series  Prev Close   Open   High   Low   Last  \\\n",
       "0  2000-01-03  BAJAUTOFIN     EQ       46.95  49.45  50.75  46.5  50.75   \n",
       "1  2000-01-04  BAJAUTOFIN     EQ       50.75  53.20  53.20  47.9  48.00   \n",
       "2  2000-01-05  BAJAUTOFIN     EQ       48.10  46.55  47.40  44.6  44.60   \n",
       "3  2000-01-06  BAJAUTOFIN     EQ       44.60  43.50  46.00  42.1  46.00   \n",
       "4  2000-01-07  BAJAUTOFIN     EQ       45.25  48.00  48.00  42.0  42.90   \n",
       "\n",
       "   Close   VWAP  Volume      Turnover  Trades  Deliverable Volume  %Deliverble  \n",
       "0  50.75  50.05    7600  3.803800e+10     NaN                 NaN          NaN  \n",
       "1  48.10  48.56    5000  2.428000e+10     NaN                 NaN          NaN  \n",
       "2  44.60  45.47    3500  1.591450e+10     NaN                 NaN          NaN  \n",
       "3  45.25  44.43    6200  2.754750e+10     NaN                 NaN          NaN  \n",
       "4  42.90  44.44    3500  1.555550e+10     NaN                 NaN          NaN  "
      ]
     },
     "execution_count": 4,
     "metadata": {},
     "output_type": "execute_result"
    }
   ],
   "source": [
    "df=pd.read_csv('C:/Users/luka.radovanovic/Desktop/Discovering new tehnologies/time_series_analyse/stock_market_predictions/BAJFINANCE.csv')\n",
    "df.head()\n"
   ]
  },
  {
   "cell_type": "code",
   "execution_count": 6,
   "id": "5c765129",
   "metadata": {},
   "outputs": [],
   "source": [
    "df.set_index('Date',inplace=True)"
   ]
  },
  {
   "cell_type": "code",
   "execution_count": 7,
   "id": "4b13b79b",
   "metadata": {},
   "outputs": [
    {
     "data": {
      "text/html": [
       "<div>\n",
       "<style scoped>\n",
       "    .dataframe tbody tr th:only-of-type {\n",
       "        vertical-align: middle;\n",
       "    }\n",
       "\n",
       "    .dataframe tbody tr th {\n",
       "        vertical-align: top;\n",
       "    }\n",
       "\n",
       "    .dataframe thead th {\n",
       "        text-align: right;\n",
       "    }\n",
       "</style>\n",
       "<table border=\"1\" class=\"dataframe\">\n",
       "  <thead>\n",
       "    <tr style=\"text-align: right;\">\n",
       "      <th></th>\n",
       "      <th>Symbol</th>\n",
       "      <th>Series</th>\n",
       "      <th>Prev Close</th>\n",
       "      <th>Open</th>\n",
       "      <th>High</th>\n",
       "      <th>Low</th>\n",
       "      <th>Last</th>\n",
       "      <th>Close</th>\n",
       "      <th>VWAP</th>\n",
       "      <th>Volume</th>\n",
       "      <th>Turnover</th>\n",
       "      <th>Trades</th>\n",
       "      <th>Deliverable Volume</th>\n",
       "      <th>%Deliverble</th>\n",
       "    </tr>\n",
       "    <tr>\n",
       "      <th>Date</th>\n",
       "      <th></th>\n",
       "      <th></th>\n",
       "      <th></th>\n",
       "      <th></th>\n",
       "      <th></th>\n",
       "      <th></th>\n",
       "      <th></th>\n",
       "      <th></th>\n",
       "      <th></th>\n",
       "      <th></th>\n",
       "      <th></th>\n",
       "      <th></th>\n",
       "      <th></th>\n",
       "      <th></th>\n",
       "    </tr>\n",
       "  </thead>\n",
       "  <tbody>\n",
       "    <tr>\n",
       "      <th>2000-01-03</th>\n",
       "      <td>BAJAUTOFIN</td>\n",
       "      <td>EQ</td>\n",
       "      <td>46.95</td>\n",
       "      <td>49.45</td>\n",
       "      <td>50.75</td>\n",
       "      <td>46.5</td>\n",
       "      <td>50.75</td>\n",
       "      <td>50.75</td>\n",
       "      <td>50.05</td>\n",
       "      <td>7600</td>\n",
       "      <td>3.803800e+10</td>\n",
       "      <td>NaN</td>\n",
       "      <td>NaN</td>\n",
       "      <td>NaN</td>\n",
       "    </tr>\n",
       "    <tr>\n",
       "      <th>2000-01-04</th>\n",
       "      <td>BAJAUTOFIN</td>\n",
       "      <td>EQ</td>\n",
       "      <td>50.75</td>\n",
       "      <td>53.20</td>\n",
       "      <td>53.20</td>\n",
       "      <td>47.9</td>\n",
       "      <td>48.00</td>\n",
       "      <td>48.10</td>\n",
       "      <td>48.56</td>\n",
       "      <td>5000</td>\n",
       "      <td>2.428000e+10</td>\n",
       "      <td>NaN</td>\n",
       "      <td>NaN</td>\n",
       "      <td>NaN</td>\n",
       "    </tr>\n",
       "    <tr>\n",
       "      <th>2000-01-05</th>\n",
       "      <td>BAJAUTOFIN</td>\n",
       "      <td>EQ</td>\n",
       "      <td>48.10</td>\n",
       "      <td>46.55</td>\n",
       "      <td>47.40</td>\n",
       "      <td>44.6</td>\n",
       "      <td>44.60</td>\n",
       "      <td>44.60</td>\n",
       "      <td>45.47</td>\n",
       "      <td>3500</td>\n",
       "      <td>1.591450e+10</td>\n",
       "      <td>NaN</td>\n",
       "      <td>NaN</td>\n",
       "      <td>NaN</td>\n",
       "    </tr>\n",
       "    <tr>\n",
       "      <th>2000-01-06</th>\n",
       "      <td>BAJAUTOFIN</td>\n",
       "      <td>EQ</td>\n",
       "      <td>44.60</td>\n",
       "      <td>43.50</td>\n",
       "      <td>46.00</td>\n",
       "      <td>42.1</td>\n",
       "      <td>46.00</td>\n",
       "      <td>45.25</td>\n",
       "      <td>44.43</td>\n",
       "      <td>6200</td>\n",
       "      <td>2.754750e+10</td>\n",
       "      <td>NaN</td>\n",
       "      <td>NaN</td>\n",
       "      <td>NaN</td>\n",
       "    </tr>\n",
       "    <tr>\n",
       "      <th>2000-01-07</th>\n",
       "      <td>BAJAUTOFIN</td>\n",
       "      <td>EQ</td>\n",
       "      <td>45.25</td>\n",
       "      <td>48.00</td>\n",
       "      <td>48.00</td>\n",
       "      <td>42.0</td>\n",
       "      <td>42.90</td>\n",
       "      <td>42.90</td>\n",
       "      <td>44.44</td>\n",
       "      <td>3500</td>\n",
       "      <td>1.555550e+10</td>\n",
       "      <td>NaN</td>\n",
       "      <td>NaN</td>\n",
       "      <td>NaN</td>\n",
       "    </tr>\n",
       "  </tbody>\n",
       "</table>\n",
       "</div>"
      ],
      "text/plain": [
       "                Symbol Series  Prev Close   Open   High   Low   Last  Close  \\\n",
       "Date                                                                          \n",
       "2000-01-03  BAJAUTOFIN     EQ       46.95  49.45  50.75  46.5  50.75  50.75   \n",
       "2000-01-04  BAJAUTOFIN     EQ       50.75  53.20  53.20  47.9  48.00  48.10   \n",
       "2000-01-05  BAJAUTOFIN     EQ       48.10  46.55  47.40  44.6  44.60  44.60   \n",
       "2000-01-06  BAJAUTOFIN     EQ       44.60  43.50  46.00  42.1  46.00  45.25   \n",
       "2000-01-07  BAJAUTOFIN     EQ       45.25  48.00  48.00  42.0  42.90  42.90   \n",
       "\n",
       "             VWAP  Volume      Turnover  Trades  Deliverable Volume  \\\n",
       "Date                                                                  \n",
       "2000-01-03  50.05    7600  3.803800e+10     NaN                 NaN   \n",
       "2000-01-04  48.56    5000  2.428000e+10     NaN                 NaN   \n",
       "2000-01-05  45.47    3500  1.591450e+10     NaN                 NaN   \n",
       "2000-01-06  44.43    6200  2.754750e+10     NaN                 NaN   \n",
       "2000-01-07  44.44    3500  1.555550e+10     NaN                 NaN   \n",
       "\n",
       "            %Deliverble  \n",
       "Date                     \n",
       "2000-01-03          NaN  \n",
       "2000-01-04          NaN  \n",
       "2000-01-05          NaN  \n",
       "2000-01-06          NaN  \n",
       "2000-01-07          NaN  "
      ]
     },
     "execution_count": 7,
     "metadata": {},
     "output_type": "execute_result"
    }
   ],
   "source": [
    "df.head()"
   ]
  },
  {
   "cell_type": "code",
   "execution_count": 8,
   "id": "40d5f3cd",
   "metadata": {},
   "outputs": [
    {
     "data": {
      "text/plain": [
       "<AxesSubplot:xlabel='Date'>"
      ]
     },
     "execution_count": 8,
     "metadata": {},
     "output_type": "execute_result"
    },
    {
     "data": {
      "image/png": "[encoded data removed]",
      "text/plain": [
       "<Figure size 432x288 with 1 Axes>"
      ]
     },
     "metadata": {
      "needs_background": "light"
     },
     "output_type": "display_data"
    }
   ],
   "source": [
    "df['VWAP'].plot()"
   ]
  },
  {
   "cell_type": "code",
   "execution_count": 9,
   "id": "c9ce52ff",
   "metadata": {},
   "outputs": [
    {
     "data": {
      "text/plain": [
       "(5070, 14)"
      ]
     },
     "execution_count": 9,
     "metadata": {},
     "output_type": "execute_result"
    }
   ],
   "source": [
    "df.shape"
   ]
  },
  {
   "cell_type": "code",
   "execution_count": 10,
   "id": "62d4a497",
   "metadata": {},
   "outputs": [
    {
     "data": {
      "text/plain": [
       "Symbol                   0\n",
       "Series                   0\n",
       "Prev Close               0\n",
       "Open                     0\n",
       "High                     0\n",
       "Low                      0\n",
       "Last                     0\n",
       "Close                    0\n",
       "VWAP                     0\n",
       "Volume                   0\n",
       "Turnover                 0\n",
       "Trades                2779\n",
       "Deliverable Volume     446\n",
       "%Deliverble            446\n",
       "dtype: int64"
      ]
     },
     "execution_count": 10,
     "metadata": {},
     "output_type": "execute_result"
    }
   ],
   "source": [
    "df.isna().sum()"
   ]
  },
  {
   "cell_type": "code",
   "execution_count": 11,
   "id": "5831faaa",
   "metadata": {},
   "outputs": [],
   "source": [
    "df.dropna(inplace=True)"
   ]
  },
  {
   "cell_type": "code",
   "execution_count": 12,
   "id": "a0721a55",
   "metadata": {},
   "outputs": [
    {
     "data": {
      "text/plain": [
       "Symbol                0\n",
       "Series                0\n",
       "Prev Close            0\n",
       "Open                  0\n",
       "High                  0\n",
       "Low                   0\n",
       "Last                  0\n",
       "Close                 0\n",
       "VWAP                  0\n",
       "Volume                0\n",
       "Turnover              0\n",
       "Trades                0\n",
       "Deliverable Volume    0\n",
       "%Deliverble           0\n",
       "dtype: int64"
      ]
     },
     "execution_count": 12,
     "metadata": {},
     "output_type": "execute_result"
    }
   ],
   "source": [
    "df.isna().sum()"
   ]
  },
  {
   "cell_type": "code",
   "execution_count": 13,
   "id": "102ef81f",
   "metadata": {},
   "outputs": [
    {
     "data": {
      "text/plain": [
       "(2291, 14)"
      ]
     },
     "execution_count": 13,
     "metadata": {},
     "output_type": "execute_result"
    }
   ],
   "source": [
    "df.shape"
   ]
  },
  {
   "cell_type": "code",
   "execution_count": 17,
   "id": "345a3fba",
   "metadata": {},
   "outputs": [],
   "source": [
    "data=df.copy()"
   ]
  },
  {
   "cell_type": "code",
   "execution_count": 18,
   "id": "385d42de",
   "metadata": {},
   "outputs": [
    {
     "data": {
      "text/plain": [
       "Symbol                 object\n",
       "Series                 object\n",
       "Prev Close            float64\n",
       "Open                  float64\n",
       "High                  float64\n",
       "Low                   float64\n",
       "Last                  float64\n",
       "Close                 float64\n",
       "VWAP                  float64\n",
       "Volume                  int64\n",
       "Turnover              float64\n",
       "Trades                float64\n",
       "Deliverable Volume    float64\n",
       "%Deliverble           float64\n",
       "dtype: object"
      ]
     },
     "execution_count": 18,
     "metadata": {},
     "output_type": "execute_result"
    }
   ],
   "source": [
    "data.dtypes"
   ]
  },
  {
   "cell_type": "code",
   "execution_count": 19,
   "id": "3652e1b9",
   "metadata": {},
   "outputs": [
    {
     "data": {
      "text/plain": [
       "Index(['Symbol', 'Series', 'Prev Close', 'Open', 'High', 'Low', 'Last',\n",
       "       'Close', 'VWAP', 'Volume', 'Turnover', 'Trades', 'Deliverable Volume',\n",
       "       '%Deliverble'],\n",
       "      dtype='object')"
      ]
     },
     "execution_count": 19,
     "metadata": {},
     "output_type": "execute_result"
    }
   ],
   "source": [
    "data.columns"
   ]
  },
  {
   "cell_type": "code",
   "execution_count": 26,
   "id": "7c46df8f",
   "metadata": {},
   "outputs": [],
   "source": [
    "lag_features=['High','Low','Volume','Turnover','Trades']\n",
    "window1=3\n",
    "window2=7\n"
   ]
  },
  {
   "cell_type": "code",
   "execution_count": 27,
   "id": "77906f15",
   "metadata": {},
   "outputs": [],
   "source": [
    "for feature in lag_features:\n",
    "    data[feature+'rolling_mean_3']=data[feature].rolling(window=window1).mean()\n",
    "    data[feature+'rolling_mean_7']=data[feature].rolling(window=window2).mean()\n",
    "    "
   ]
  },
  {
   "cell_type": "code",
   "execution_count": 28,
   "id": "742048be",
   "metadata": {},
   "outputs": [],
   "source": [
    "for feature in lag_features:\n",
    "    data[feature+'rolling_std_3']=data[feature].rolling(window=window1).std()\n",
    "    data[feature+'rolling_std_7']=data[feature].rolling(window=window2).std()\n",
    "    "
   ]
  },
  {
   "cell_type": "code",
   "execution_count": 29,
   "id": "55c6f6ca",
   "metadata": {},
   "outputs": [
    {
     "data": {
      "text/html": [
       "<div>\n",
       "<style scoped>\n",
       "    .dataframe tbody tr th:only-of-type {\n",
       "        vertical-align: middle;\n",
       "    }\n",
       "\n",
       "    .dataframe tbody tr th {\n",
       "        vertical-align: top;\n",
       "    }\n",
       "\n",
       "    .dataframe thead th {\n",
       "        text-align: right;\n",
       "    }\n",
       "</style>\n",
       "<table border=\"1\" class=\"dataframe\">\n",
       "  <thead>\n",
       "    <tr style=\"text-align: right;\">\n",
       "      <th></th>\n",
       "      <th>Symbol</th>\n",
       "      <th>Series</th>\n",
       "      <th>Prev Close</th>\n",
       "      <th>Open</th>\n",
       "      <th>High</th>\n",
       "      <th>Low</th>\n",
       "      <th>Last</th>\n",
       "      <th>Close</th>\n",
       "      <th>VWAP</th>\n",
       "      <th>Volume</th>\n",
       "      <th>...</th>\n",
       "      <th>Highrolling_std_3</th>\n",
       "      <th>Highrolling_std_7</th>\n",
       "      <th>Lowrolling_std_3</th>\n",
       "      <th>Lowrolling_std_7</th>\n",
       "      <th>Volumerolling_std_3</th>\n",
       "      <th>Volumerolling_std_7</th>\n",
       "      <th>Turnoverrolling_std_3</th>\n",
       "      <th>Turnoverrolling_std_7</th>\n",
       "      <th>Tradesrolling_std_3</th>\n",
       "      <th>Tradesrolling_std_7</th>\n",
       "    </tr>\n",
       "    <tr>\n",
       "      <th>Date</th>\n",
       "      <th></th>\n",
       "      <th></th>\n",
       "      <th></th>\n",
       "      <th></th>\n",
       "      <th></th>\n",
       "      <th></th>\n",
       "      <th></th>\n",
       "      <th></th>\n",
       "      <th></th>\n",
       "      <th></th>\n",
       "      <th></th>\n",
       "      <th></th>\n",
       "      <th></th>\n",
       "      <th></th>\n",
       "      <th></th>\n",
       "      <th></th>\n",
       "      <th></th>\n",
       "      <th></th>\n",
       "      <th></th>\n",
       "      <th></th>\n",
       "      <th></th>\n",
       "    </tr>\n",
       "  </thead>\n",
       "  <tbody>\n",
       "    <tr>\n",
       "      <th>2011-06-01</th>\n",
       "      <td>BAJFINANCE</td>\n",
       "      <td>EQ</td>\n",
       "      <td>616.70</td>\n",
       "      <td>617.00</td>\n",
       "      <td>636.50</td>\n",
       "      <td>616.00</td>\n",
       "      <td>627.00</td>\n",
       "      <td>631.85</td>\n",
       "      <td>627.01</td>\n",
       "      <td>6894</td>\n",
       "      <td>...</td>\n",
       "      <td>NaN</td>\n",
       "      <td>NaN</td>\n",
       "      <td>NaN</td>\n",
       "      <td>NaN</td>\n",
       "      <td>NaN</td>\n",
       "      <td>NaN</td>\n",
       "      <td>NaN</td>\n",
       "      <td>NaN</td>\n",
       "      <td>NaN</td>\n",
       "      <td>NaN</td>\n",
       "    </tr>\n",
       "    <tr>\n",
       "      <th>2011-06-02</th>\n",
       "      <td>BAJFINANCE</td>\n",
       "      <td>EQ</td>\n",
       "      <td>631.85</td>\n",
       "      <td>625.00</td>\n",
       "      <td>638.90</td>\n",
       "      <td>620.00</td>\n",
       "      <td>634.00</td>\n",
       "      <td>633.45</td>\n",
       "      <td>636.04</td>\n",
       "      <td>2769</td>\n",
       "      <td>...</td>\n",
       "      <td>NaN</td>\n",
       "      <td>NaN</td>\n",
       "      <td>NaN</td>\n",
       "      <td>NaN</td>\n",
       "      <td>NaN</td>\n",
       "      <td>NaN</td>\n",
       "      <td>NaN</td>\n",
       "      <td>NaN</td>\n",
       "      <td>NaN</td>\n",
       "      <td>NaN</td>\n",
       "    </tr>\n",
       "    <tr>\n",
       "      <th>2011-06-03</th>\n",
       "      <td>BAJFINANCE</td>\n",
       "      <td>EQ</td>\n",
       "      <td>633.45</td>\n",
       "      <td>625.15</td>\n",
       "      <td>637.80</td>\n",
       "      <td>620.00</td>\n",
       "      <td>623.00</td>\n",
       "      <td>625.00</td>\n",
       "      <td>625.09</td>\n",
       "      <td>51427</td>\n",
       "      <td>...</td>\n",
       "      <td>1.201388</td>\n",
       "      <td>NaN</td>\n",
       "      <td>2.309401</td>\n",
       "      <td>NaN</td>\n",
       "      <td>26980.871860</td>\n",
       "      <td>NaN</td>\n",
       "      <td>1.685217e+12</td>\n",
       "      <td>NaN</td>\n",
       "      <td>670.500559</td>\n",
       "      <td>NaN</td>\n",
       "    </tr>\n",
       "    <tr>\n",
       "      <th>2011-06-06</th>\n",
       "      <td>BAJFINANCE</td>\n",
       "      <td>EQ</td>\n",
       "      <td>625.00</td>\n",
       "      <td>620.00</td>\n",
       "      <td>641.00</td>\n",
       "      <td>611.35</td>\n",
       "      <td>611.35</td>\n",
       "      <td>614.00</td>\n",
       "      <td>616.03</td>\n",
       "      <td>5446</td>\n",
       "      <td>...</td>\n",
       "      <td>1.625833</td>\n",
       "      <td>NaN</td>\n",
       "      <td>4.994080</td>\n",
       "      <td>NaN</td>\n",
       "      <td>27352.695339</td>\n",
       "      <td>NaN</td>\n",
       "      <td>1.710136e+12</td>\n",
       "      <td>NaN</td>\n",
       "      <td>148.769396</td>\n",
       "      <td>NaN</td>\n",
       "    </tr>\n",
       "    <tr>\n",
       "      <th>2011-06-07</th>\n",
       "      <td>BAJFINANCE</td>\n",
       "      <td>EQ</td>\n",
       "      <td>614.00</td>\n",
       "      <td>604.00</td>\n",
       "      <td>623.95</td>\n",
       "      <td>604.00</td>\n",
       "      <td>619.90</td>\n",
       "      <td>619.15</td>\n",
       "      <td>617.73</td>\n",
       "      <td>5991</td>\n",
       "      <td>...</td>\n",
       "      <td>9.062422</td>\n",
       "      <td>NaN</td>\n",
       "      <td>8.008797</td>\n",
       "      <td>NaN</td>\n",
       "      <td>26391.221653</td>\n",
       "      <td>NaN</td>\n",
       "      <td>1.652377e+12</td>\n",
       "      <td>NaN</td>\n",
       "      <td>78.270897</td>\n",
       "      <td>NaN</td>\n",
       "    </tr>\n",
       "  </tbody>\n",
       "</table>\n",
       "<p>5 rows × 34 columns</p>\n",
       "</div>"
      ],
      "text/plain": [
       "                Symbol Series  Prev Close    Open    High     Low    Last  \\\n",
       "Date                                                                        \n",
       "2011-06-01  BAJFINANCE     EQ      616.70  617.00  636.50  616.00  627.00   \n",
       "2011-06-02  BAJFINANCE     EQ      631.85  625.00  638.90  620.00  634.00   \n",
       "2011-06-03  BAJFINANCE     EQ      633.45  625.15  637.80  620.00  623.00   \n",
       "2011-06-06  BAJFINANCE     EQ      625.00  620.00  641.00  611.35  611.35   \n",
       "2011-06-07  BAJFINANCE     EQ      614.00  604.00  623.95  604.00  619.90   \n",
       "\n",
       "             Close    VWAP  Volume  ...  Highrolling_std_3  Highrolling_std_7  \\\n",
       "Date                                ...                                         \n",
       "2011-06-01  631.85  627.01    6894  ...                NaN                NaN   \n",
       "2011-06-02  633.45  636.04    2769  ...                NaN                NaN   \n",
       "2011-06-03  625.00  625.09   51427  ...           1.201388                NaN   \n",
       "2011-06-06  614.00  616.03    5446  ...           1.625833                NaN   \n",
       "2011-06-07  619.15  617.73    5991  ...           9.062422                NaN   \n",
       "\n",
       "            Lowrolling_std_3  Lowrolling_std_7  Volumerolling_std_3  \\\n",
       "Date                                                                  \n",
       "2011-06-01               NaN               NaN                  NaN   \n",
       "2011-06-02               NaN               NaN                  NaN   \n",
       "2011-06-03          2.309401               NaN         26980.871860   \n",
       "2011-06-06          4.994080               NaN         27352.695339   \n",
       "2011-06-07          8.008797               NaN         26391.221653   \n",
       "\n",
       "            Volumerolling_std_7  Turnoverrolling_std_3  Turnoverrolling_std_7  \\\n",
       "Date                                                                            \n",
       "2011-06-01                  NaN                    NaN                    NaN   \n",
       "2011-06-02                  NaN                    NaN                    NaN   \n",
       "2011-06-03                  NaN           1.685217e+12                    NaN   \n",
       "2011-06-06                  NaN           1.710136e+12                    NaN   \n",
       "2011-06-07                  NaN           1.652377e+12                    NaN   \n",
       "\n",
       "            Tradesrolling_std_3  Tradesrolling_std_7  \n",
       "Date                                                  \n",
       "2011-06-01                  NaN                  NaN  \n",
       "2011-06-02                  NaN                  NaN  \n",
       "2011-06-03           670.500559                  NaN  \n",
       "2011-06-06           148.769396                  NaN  \n",
       "2011-06-07            78.270897                  NaN  \n",
       "\n",
       "[5 rows x 34 columns]"
      ]
     },
     "execution_count": 29,
     "metadata": {},
     "output_type": "execute_result"
    }
   ],
   "source": [
    "data.head()"
   ]
  },
  {
   "cell_type": "code",
   "execution_count": 31,
   "id": "573dd58a",
   "metadata": {},
   "outputs": [
    {
     "data": {
      "text/plain": [
       "Index(['Symbol', 'Series', 'Prev Close', 'Open', 'High', 'Low', 'Last',\n",
       "       'Close', 'VWAP', 'Volume', 'Turnover', 'Trades', 'Deliverable Volume',\n",
       "       '%Deliverble', 'Highrolling_mean_3', 'Highrolling_mean_7',\n",
       "       'Lowrolling_mean_3', 'Lowrolling_mean_7', 'Volumerolling_mean_3',\n",
       "       'Volumerolling_mean_7', 'Turnoverrolling_mean_3',\n",
       "       'Turnoverrolling_mean_7', 'Tradesrolling_mean_3',\n",
       "       'Tradesrolling_mean_7', 'Highrolling_std_3', 'Highrolling_std_7',\n",
       "       'Lowrolling_std_3', 'Lowrolling_std_7', 'Volumerolling_std_3',\n",
       "       'Volumerolling_std_7', 'Turnoverrolling_std_3', 'Turnoverrolling_std_7',\n",
       "       'Tradesrolling_std_3', 'Tradesrolling_std_7'],\n",
       "      dtype='object')"
      ]
     },
     "execution_count": 31,
     "metadata": {},
     "output_type": "execute_result"
    }
   ],
   "source": [
    "data.columns"
   ]
  },
  {
   "cell_type": "code",
   "execution_count": 32,
   "id": "9ff99f5f",
   "metadata": {},
   "outputs": [
    {
     "data": {
      "text/plain": [
       "(2291, 34)"
      ]
     },
     "execution_count": 32,
     "metadata": {},
     "output_type": "execute_result"
    }
   ],
   "source": [
    "data.shape"
   ]
  },
  {
   "cell_type": "code",
   "execution_count": 34,
   "id": "51938b76",
   "metadata": {},
   "outputs": [
    {
     "data": {
      "text/plain": [
       "Symbol                    0\n",
       "Series                    0\n",
       "Prev Close                0\n",
       "Open                      0\n",
       "High                      0\n",
       "Low                       0\n",
       "Last                      0\n",
       "Close                     0\n",
       "VWAP                      0\n",
       "Volume                    0\n",
       "Turnover                  0\n",
       "Trades                    0\n",
       "Deliverable Volume        0\n",
       "%Deliverble               0\n",
       "Highrolling_mean_3        2\n",
       "Highrolling_mean_7        6\n",
       "Lowrolling_mean_3         2\n",
       "Lowrolling_mean_7         6\n",
       "Volumerolling_mean_3      2\n",
       "Volumerolling_mean_7      6\n",
       "Turnoverrolling_mean_3    2\n",
       "Turnoverrolling_mean_7    6\n",
       "Tradesrolling_mean_3      2\n",
       "Tradesrolling_mean_7      6\n",
       "Highrolling_std_3         2\n",
       "Highrolling_std_7         6\n",
       "Lowrolling_std_3          2\n",
       "Lowrolling_std_7          6\n",
       "Volumerolling_std_3       2\n",
       "Volumerolling_std_7       6\n",
       "Turnoverrolling_std_3     2\n",
       "Turnoverrolling_std_7     6\n",
       "Tradesrolling_std_3       2\n",
       "Tradesrolling_std_7       6\n",
       "dtype: int64"
      ]
     },
     "execution_count": 34,
     "metadata": {},
     "output_type": "execute_result"
    }
   ],
   "source": [
    "data.isna().sum()"
   ]
  },
  {
   "cell_type": "code",
   "execution_count": 35,
   "id": "3141e2ad",
   "metadata": {},
   "outputs": [],
   "source": [
    "data.dropna(inplace=True)"
   ]
  },
  {
   "cell_type": "code",
   "execution_count": null,
   "id": "7bac3426",
   "metadata": {},
   "outputs": [],
   "source": []
  },
  {
   "cell_type": "code",
   "execution_count": 36,
   "id": "7afc1cf5",
   "metadata": {},
   "outputs": [],
   "source": [
    "ind_features=['Highrolling_mean_3', 'Highrolling_mean_7',\n",
    "       'Lowrolling_mean_3', 'Lowrolling_mean_7', 'Volumerolling_mean_3',\n",
    "       'Volumerolling_mean_7', 'Turnoverrolling_mean_3',\n",
    "       'Turnoverrolling_mean_7', 'Tradesrolling_mean_3',\n",
    "       'Tradesrolling_mean_7', 'Highrolling_std_3', 'Highrolling_std_7',\n",
    "       'Lowrolling_std_3', 'Lowrolling_std_7', 'Volumerolling_std_3',\n",
    "       'Volumerolling_std_7', 'Turnoverrolling_std_3', 'Turnoverrolling_std_7',\n",
    "       'Tradesrolling_std_3', 'Tradesrolling_std_7']"
   ]
  },
  {
   "cell_type": "code",
   "execution_count": 37,
   "id": "48605f99",
   "metadata": {},
   "outputs": [
    {
     "data": {
      "text/plain": [
       "(2285, 34)"
      ]
     },
     "execution_count": 37,
     "metadata": {},
     "output_type": "execute_result"
    }
   ],
   "source": [
    "data.shape"
   ]
  },
  {
   "cell_type": "code",
   "execution_count": 39,
   "id": "5e25d0d8",
   "metadata": {},
   "outputs": [],
   "source": [
    "training_data=data[0:1800]\n",
    "test_data=data[1800:]"
   ]
  },
  {
   "cell_type": "code",
   "execution_count": 40,
   "id": "0d31de02",
   "metadata": {},
   "outputs": [
    {
     "data": {
      "text/html": [
       "<div>\n",
       "<style scoped>\n",
       "    .dataframe tbody tr th:only-of-type {\n",
       "        vertical-align: middle;\n",
       "    }\n",
       "\n",
       "    .dataframe tbody tr th {\n",
       "        vertical-align: top;\n",
       "    }\n",
       "\n",
       "    .dataframe thead th {\n",
       "        text-align: right;\n",
       "    }\n",
       "</style>\n",
       "<table border=\"1\" class=\"dataframe\">\n",
       "  <thead>\n",
       "    <tr style=\"text-align: right;\">\n",
       "      <th></th>\n",
       "      <th>Symbol</th>\n",
       "      <th>Series</th>\n",
       "      <th>Prev Close</th>\n",
       "      <th>Open</th>\n",
       "      <th>High</th>\n",
       "      <th>Low</th>\n",
       "      <th>Last</th>\n",
       "      <th>Close</th>\n",
       "      <th>VWAP</th>\n",
       "      <th>Volume</th>\n",
       "      <th>...</th>\n",
       "      <th>Highrolling_std_3</th>\n",
       "      <th>Highrolling_std_7</th>\n",
       "      <th>Lowrolling_std_3</th>\n",
       "      <th>Lowrolling_std_7</th>\n",
       "      <th>Volumerolling_std_3</th>\n",
       "      <th>Volumerolling_std_7</th>\n",
       "      <th>Turnoverrolling_std_3</th>\n",
       "      <th>Turnoverrolling_std_7</th>\n",
       "      <th>Tradesrolling_std_3</th>\n",
       "      <th>Tradesrolling_std_7</th>\n",
       "    </tr>\n",
       "    <tr>\n",
       "      <th>Date</th>\n",
       "      <th></th>\n",
       "      <th></th>\n",
       "      <th></th>\n",
       "      <th></th>\n",
       "      <th></th>\n",
       "      <th></th>\n",
       "      <th></th>\n",
       "      <th></th>\n",
       "      <th></th>\n",
       "      <th></th>\n",
       "      <th></th>\n",
       "      <th></th>\n",
       "      <th></th>\n",
       "      <th></th>\n",
       "      <th></th>\n",
       "      <th></th>\n",
       "      <th></th>\n",
       "      <th></th>\n",
       "      <th></th>\n",
       "      <th></th>\n",
       "      <th></th>\n",
       "    </tr>\n",
       "  </thead>\n",
       "  <tbody>\n",
       "    <tr>\n",
       "      <th>2011-06-09</th>\n",
       "      <td>BAJFINANCE</td>\n",
       "      <td>EQ</td>\n",
       "      <td>635.60</td>\n",
       "      <td>639.80</td>\n",
       "      <td>647.00</td>\n",
       "      <td>630.00</td>\n",
       "      <td>630.00</td>\n",
       "      <td>631.10</td>\n",
       "      <td>638.27</td>\n",
       "      <td>31252</td>\n",
       "      <td>...</td>\n",
       "      <td>12.769789</td>\n",
       "      <td>7.494911</td>\n",
       "      <td>15.011107</td>\n",
       "      <td>9.410145</td>\n",
       "      <td>13497.047986</td>\n",
       "      <td>18373.894011</td>\n",
       "      <td>8.665128e+11</td>\n",
       "      <td>1.155773e+12</td>\n",
       "      <td>354.841279</td>\n",
       "      <td>463.942320</td>\n",
       "    </tr>\n",
       "    <tr>\n",
       "      <th>2011-06-10</th>\n",
       "      <td>BAJFINANCE</td>\n",
       "      <td>EQ</td>\n",
       "      <td>631.10</td>\n",
       "      <td>641.85</td>\n",
       "      <td>648.25</td>\n",
       "      <td>618.55</td>\n",
       "      <td>621.10</td>\n",
       "      <td>622.20</td>\n",
       "      <td>634.16</td>\n",
       "      <td>30885</td>\n",
       "      <td>...</td>\n",
       "      <td>1.639360</td>\n",
       "      <td>8.227994</td>\n",
       "      <td>13.030765</td>\n",
       "      <td>9.501961</td>\n",
       "      <td>2434.970705</td>\n",
       "      <td>18047.331029</td>\n",
       "      <td>1.579562e+11</td>\n",
       "      <td>1.136003e+12</td>\n",
       "      <td>272.875429</td>\n",
       "      <td>448.020620</td>\n",
       "    </tr>\n",
       "    <tr>\n",
       "      <th>2011-06-13</th>\n",
       "      <td>BAJFINANCE</td>\n",
       "      <td>EQ</td>\n",
       "      <td>622.20</td>\n",
       "      <td>616.00</td>\n",
       "      <td>627.85</td>\n",
       "      <td>616.00</td>\n",
       "      <td>622.75</td>\n",
       "      <td>624.95</td>\n",
       "      <td>622.92</td>\n",
       "      <td>3981</td>\n",
       "      <td>...</td>\n",
       "      <td>11.434196</td>\n",
       "      <td>9.497080</td>\n",
       "      <td>7.456597</td>\n",
       "      <td>9.298317</td>\n",
       "      <td>15640.051929</td>\n",
       "      <td>17835.642665</td>\n",
       "      <td>9.982094e+11</td>\n",
       "      <td>1.123423e+12</td>\n",
       "      <td>557.373603</td>\n",
       "      <td>464.778596</td>\n",
       "    </tr>\n",
       "    <tr>\n",
       "      <th>2011-06-14</th>\n",
       "      <td>BAJFINANCE</td>\n",
       "      <td>EQ</td>\n",
       "      <td>624.95</td>\n",
       "      <td>625.00</td>\n",
       "      <td>628.95</td>\n",
       "      <td>619.95</td>\n",
       "      <td>621.20</td>\n",
       "      <td>622.10</td>\n",
       "      <td>625.35</td>\n",
       "      <td>5597</td>\n",
       "      <td>...</td>\n",
       "      <td>11.473593</td>\n",
       "      <td>10.198891</td>\n",
       "      <td>2.002707</td>\n",
       "      <td>9.293713</td>\n",
       "      <td>15088.183102</td>\n",
       "      <td>13139.472184</td>\n",
       "      <td>9.595224e+11</td>\n",
       "      <td>8.397765e+11</td>\n",
       "      <td>656.385050</td>\n",
       "      <td>455.234163</td>\n",
       "    </tr>\n",
       "    <tr>\n",
       "      <th>2011-06-15</th>\n",
       "      <td>BAJFINANCE</td>\n",
       "      <td>EQ</td>\n",
       "      <td>622.10</td>\n",
       "      <td>612.00</td>\n",
       "      <td>623.00</td>\n",
       "      <td>598.10</td>\n",
       "      <td>605.00</td>\n",
       "      <td>601.70</td>\n",
       "      <td>606.90</td>\n",
       "      <td>12590</td>\n",
       "      <td>...</td>\n",
       "      <td>3.165833</td>\n",
       "      <td>11.352292</td>\n",
       "      <td>11.643560</td>\n",
       "      <td>11.262712</td>\n",
       "      <td>4575.812970</td>\n",
       "      <td>12469.137006</td>\n",
       "      <td>2.733211e+11</td>\n",
       "      <td>7.983186e+11</td>\n",
       "      <td>150.639747</td>\n",
       "      <td>436.941971</td>\n",
       "    </tr>\n",
       "  </tbody>\n",
       "</table>\n",
       "<p>5 rows × 34 columns</p>\n",
       "</div>"
      ],
      "text/plain": [
       "                Symbol Series  Prev Close    Open    High     Low    Last  \\\n",
       "Date                                                                        \n",
       "2011-06-09  BAJFINANCE     EQ      635.60  639.80  647.00  630.00  630.00   \n",
       "2011-06-10  BAJFINANCE     EQ      631.10  641.85  648.25  618.55  621.10   \n",
       "2011-06-13  BAJFINANCE     EQ      622.20  616.00  627.85  616.00  622.75   \n",
       "2011-06-14  BAJFINANCE     EQ      624.95  625.00  628.95  619.95  621.20   \n",
       "2011-06-15  BAJFINANCE     EQ      622.10  612.00  623.00  598.10  605.00   \n",
       "\n",
       "             Close    VWAP  Volume  ...  Highrolling_std_3  Highrolling_std_7  \\\n",
       "Date                                ...                                         \n",
       "2011-06-09  631.10  638.27   31252  ...          12.769789           7.494911   \n",
       "2011-06-10  622.20  634.16   30885  ...           1.639360           8.227994   \n",
       "2011-06-13  624.95  622.92    3981  ...          11.434196           9.497080   \n",
       "2011-06-14  622.10  625.35    5597  ...          11.473593          10.198891   \n",
       "2011-06-15  601.70  606.90   12590  ...           3.165833          11.352292   \n",
       "\n",
       "            Lowrolling_std_3  Lowrolling_std_7  Volumerolling_std_3  \\\n",
       "Date                                                                  \n",
       "2011-06-09         15.011107          9.410145         13497.047986   \n",
       "2011-06-10         13.030765          9.501961          2434.970705   \n",
       "2011-06-13          7.456597          9.298317         15640.051929   \n",
       "2011-06-14          2.002707          9.293713         15088.183102   \n",
       "2011-06-15         11.643560         11.262712          4575.812970   \n",
       "\n",
       "            Volumerolling_std_7  Turnoverrolling_std_3  Turnoverrolling_std_7  \\\n",
       "Date                                                                            \n",
       "2011-06-09         18373.894011           8.665128e+11           1.155773e+12   \n",
       "2011-06-10         18047.331029           1.579562e+11           1.136003e+12   \n",
       "2011-06-13         17835.642665           9.982094e+11           1.123423e+12   \n",
       "2011-06-14         13139.472184           9.595224e+11           8.397765e+11   \n",
       "2011-06-15         12469.137006           2.733211e+11           7.983186e+11   \n",
       "\n",
       "            Tradesrolling_std_3  Tradesrolling_std_7  \n",
       "Date                                                  \n",
       "2011-06-09           354.841279           463.942320  \n",
       "2011-06-10           272.875429           448.020620  \n",
       "2011-06-13           557.373603           464.778596  \n",
       "2011-06-14           656.385050           455.234163  \n",
       "2011-06-15           150.639747           436.941971  \n",
       "\n",
       "[5 rows x 34 columns]"
      ]
     },
     "execution_count": 40,
     "metadata": {},
     "output_type": "execute_result"
    }
   ],
   "source": [
    "training_data.head()"
   ]
  },
  {
   "cell_type": "code",
   "execution_count": 41,
   "id": "faaf7d64",
   "metadata": {},
   "outputs": [
    {
     "name": "stdout",
     "output_type": "stream",
     "text": [
      "Collecting pmdarima\n",
      "  Downloading pmdarima-1.8.3-cp38-cp38-win_amd64.whl (600 kB)\n",
      "Requirement already satisfied: numpy>=1.19.3 in c:\\users\\luka.radovanovic\\anaconda3\\lib\\site-packages (from pmdarima) (1.20.1)\n",
      "Requirement already satisfied: pandas>=0.19 in c:\\users\\luka.radovanovic\\anaconda3\\lib\\site-packages (from pmdarima) (1.2.4)\n",
      "Requirement already satisfied: setuptools!=50.0.0,>=38.6.0 in c:\\users\\luka.radovanovic\\anaconda3\\lib\\site-packages (from pmdarima) (52.0.0.post20210125)\n",
      "Requirement already satisfied: joblib>=0.11 in c:\\users\\luka.radovanovic\\anaconda3\\lib\\site-packages (from pmdarima) (1.0.1)\n",
      "Requirement already satisfied: statsmodels!=0.12.0,>=0.11 in c:\\users\\luka.radovanovic\\anaconda3\\lib\\site-packages (from pmdarima) (0.12.2)\n",
      "Requirement already satisfied: scikit-learn>=0.22 in c:\\users\\luka.radovanovic\\anaconda3\\lib\\site-packages (from pmdarima) (0.24.1)\n",
      "Requirement already satisfied: urllib3 in c:\\users\\luka.radovanovic\\anaconda3\\lib\\site-packages (from pmdarima) (1.26.4)\n",
      "Requirement already satisfied: scipy>=1.3.2 in c:\\users\\luka.radovanovic\\anaconda3\\lib\\site-packages (from pmdarima) (1.6.2)\n",
      "Requirement already satisfied: Cython!=0.29.18,>=0.29 in c:\\users\\luka.radovanovic\\anaconda3\\lib\\site-packages (from pmdarima) (0.29.23)\n",
      "Requirement already satisfied: pytz>=2017.3 in c:\\users\\luka.radovanovic\\anaconda3\\lib\\site-packages (from pandas>=0.19->pmdarima) (2021.1)\n",
      "Requirement already satisfied: python-dateutil>=2.7.3 in c:\\users\\luka.radovanovic\\anaconda3\\lib\\site-packages (from pandas>=0.19->pmdarima) (2.8.1)\n",
      "Requirement already satisfied: six>=1.5 in c:\\users\\luka.radovanovic\\anaconda3\\lib\\site-packages (from python-dateutil>=2.7.3->pandas>=0.19->pmdarima) (1.15.0)\n",
      "Requirement already satisfied: threadpoolctl>=2.0.0 in c:\\users\\luka.radovanovic\\anaconda3\\lib\\site-packages (from scikit-learn>=0.22->pmdarima) (2.1.0)\n",
      "Requirement already satisfied: patsy>=0.5 in c:\\users\\luka.radovanovic\\anaconda3\\lib\\site-packages (from statsmodels!=0.12.0,>=0.11->pmdarima) (0.5.1)\n",
      "Installing collected packages: pmdarima\n",
      "Successfully installed pmdarima-1.8.3\n"
     ]
    }
   ],
   "source": [
    "!pip install pmdarima"
   ]
  },
  {
   "cell_type": "code",
   "execution_count": 42,
   "id": "02dcbc92",
   "metadata": {},
   "outputs": [],
   "source": [
    "from pmdarima import auto_arima"
   ]
  },
  {
   "cell_type": "code",
   "execution_count": 44,
   "id": "01832eca",
   "metadata": {},
   "outputs": [],
   "source": [
    "import warnings\n",
    "warnings.filterwarnings('ignore')"
   ]
  },
  {
   "cell_type": "code",
   "execution_count": 47,
   "id": "78af96a0",
   "metadata": {},
   "outputs": [
    {
     "name": "stdout",
     "output_type": "stream",
     "text": [
      "Performing stepwise search to minimize aic\n",
      " ARIMA(2,0,2)(0,0,0)[0] intercept   : AIC=20931.537, Time=3.45 sec\n",
      " ARIMA(0,0,0)(0,0,0)[0] intercept   : AIC=20925.224, Time=2.13 sec\n",
      " ARIMA(1,0,0)(0,0,0)[0] intercept   : AIC=20926.348, Time=2.36 sec\n",
      " ARIMA(0,0,1)(0,0,0)[0] intercept   : AIC=20926.320, Time=2.99 sec\n",
      " ARIMA(0,0,0)(0,0,0)[0]             : AIC=32616.913, Time=2.11 sec\n",
      " ARIMA(1,0,1)(0,0,0)[0] intercept   : AIC=20929.234, Time=3.16 sec\n",
      "\n",
      "Best model:  ARIMA(0,0,0)(0,0,0)[0] intercept\n",
      "Total fit time: 16.202 seconds\n"
     ]
    }
   ],
   "source": [
    "model=auto_arima(y=training_data['VWAP'],exogenous=training_data[ind_features],trace=True)"
   ]
  },
  {
   "cell_type": "code",
   "execution_count": 48,
   "id": "3094a93b",
   "metadata": {},
   "outputs": [
    {
     "data": {
      "text/plain": [
       "ARIMA(order=(0, 0, 0), scoring_args={}, suppress_warnings=True)"
      ]
     },
     "execution_count": 48,
     "metadata": {},
     "output_type": "execute_result"
    }
   ],
   "source": [
    "model.fit(training_data['VWAP'],training_data[ind_features])"
   ]
  },
  {
   "cell_type": "code",
   "execution_count": 50,
   "id": "7fbd17c7",
   "metadata": {},
   "outputs": [],
   "source": [
    "forecast=model.predict(n_periods=len(test_data),exogenous=test_data[ind_features])"
   ]
  },
  {
   "cell_type": "code",
   "execution_count": 51,
   "id": "c683a3ec",
   "metadata": {},
   "outputs": [],
   "source": [
    "test_data['Forecase_ARIMA']=forecast"
   ]
  },
  {
   "cell_type": "code",
   "execution_count": 55,
   "id": "99479f26",
   "metadata": {},
   "outputs": [
    {
     "data": {
      "text/plain": [
       "<AxesSubplot:xlabel='Date'>"
      ]
     },
     "execution_count": 55,
     "metadata": {},
     "output_type": "execute_result"
    },
    {
     "data": {
      "image/png": "[encoded data removed]",
      "text/plain": [
       "<Figure size 1440x504 with 1 Axes>"
      ]
     },
     "metadata": {
      "needs_background": "light"
     },
     "output_type": "display_data"
    }
   ],
   "source": [
    "test_data[['VWAP','Forecase_ARIMA']].plot(figsize=(20,7))"
   ]
  },
  {
   "cell_type": "code",
   "execution_count": 56,
   "id": "64a3162a",
   "metadata": {},
   "outputs": [],
   "source": [
    "from sklearn.metrics import mean_absolute_error,mean_squared_error"
   ]
  },
  {
   "cell_type": "code",
   "execution_count": 58,
   "id": "2592a069",
   "metadata": {},
   "outputs": [
    {
     "data": {
      "text/plain": [
       "187.75984512658303"
      ]
     },
     "execution_count": 58,
     "metadata": {},
     "output_type": "execute_result"
    }
   ],
   "source": [
    "np.sqrt(mean_squared_error(test_data['VWAP'],test_data['Forecase_ARIMA']))"
   ]
  },
  {
   "cell_type": "code",
   "execution_count": 59,
   "id": "54c23b08",
   "metadata": {},
   "outputs": [
    {
     "data": {
      "text/plain": [
       "124.64212252219295"
      ]
     },
     "execution_count": 59,
     "metadata": {},
     "output_type": "execute_result"
    }
   ],
   "source": [
    "mean_absolute_error(test_data['VWAP'],test_data['Forecase_ARIMA'])"
   ]
  },
  {
   "cell_type": "code",
   "execution_count": null,
   "id": "7237167b",
   "metadata": {},
   "outputs": [],
   "source": []
  },
  {
   "cell_type": "code",
   "execution_count": null,
   "id": "6d43ee40",
   "metadata": {},
   "outputs": [],
   "source": []
  },
  {
   "cell_type": "code",
   "execution_count": null,
   "id": "7cce755b",
   "metadata": {},
   "outputs": [],
   "source": []
  }
 ],
 "metadata": {
  "kernelspec": {
   "display_name": "Python 3",
   "language": "python",
   "name": "python3"
  },
  "language_info": {
   "codemirror_mode": {
    "name": "ipython",
    "version": 3
   },
   "file_extension": ".py",
   "mimetype": "text/x-python",
   "name": "python",
   "nbconvert_exporter": "python",
   "pygments_lexer": "ipython3",
   "version": "3.8.8"
  }
 },
 "nbformat": 4,
 "nbformat_minor": 5
}
